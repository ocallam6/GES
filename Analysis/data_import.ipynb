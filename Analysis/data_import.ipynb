{
 "cells": [
  {
   "cell_type": "markdown",
   "metadata": {},
   "source": [
    "# 0.0 Introduction\n",
    "# THIS IS OBSELETE\n",
    "This notebook will deal with the import of data to the file system.\n",
    "\n",
    "At the moment it supports the retrieval of data from the GIRAFFE Gaia-ESO survey.   \n"
   ]
  },
  {
   "cell_type": "markdown",
   "metadata": {},
   "source": [
    "https://www.eso.org/sci/facilities/paranal/instruments/flames/inst/specs1.html"
   ]
  },
  {
   "cell_type": "code",
   "execution_count": null,
   "metadata": {},
   "outputs": [],
   "source": []
  },
  {
   "cell_type": "markdown",
   "metadata": {},
   "source": [
    "# 0.1 Imports"
   ]
  },
  {
   "cell_type": "code",
   "execution_count": 1,
   "metadata": {},
   "outputs": [],
   "source": [
    "import os\n",
    "if('Analysis' in os.getcwd()): #make sure that if in analysis folder to back up a directory\n",
    "    os.chdir(\"../\")\n",
    "from Data_handling.ges_query import table_query_names\n"
   ]
  },
  {
   "cell_type": "markdown",
   "metadata": {},
   "source": [
    "# 1.0 Get names of objects from ESO server\n",
    "This will get the names required for the given giraffe setting and save them in the data folder.\n"
   ]
  },
  {
   "cell_type": "code",
   "execution_count": 2,
   "metadata": {},
   "outputs": [
    {
     "name": "stderr",
     "output_type": "stream",
     "text": [
      "WARNING: No password was found in the keychain for the provided username. [astroquery.query]\n"
     ]
    },
    {
     "name": "stdout",
     "output_type": "stream",
     "text": [
      "INFO: Authenticating ocallam6 on www.eso.org... [astroquery.eso.core]\n",
      "INFO: Authentication successful! [astroquery.eso.core]\n",
      "Query begin\n",
      "Length of table queried:           ARCFILE                Object      ...       REFERENC     \n",
      "--------------------------- ---------------- ... -------------------\n",
      "ADP.2020-12-07T15:34:19.824 00231287-7210190 ... 2014A&A...565A.113S\n",
      "ADP.2020-12-07T15:34:19.825 00232012-7202232 ... 2014A&A...565A.113S\n",
      "ADP.2020-12-07T15:34:19.826 00232097-7205182 ... 2014A&A...565A.113S\n",
      "ADP.2020-12-07T15:34:19.827 00232232-7205399 ... 2014A&A...565A.113S\n",
      "ADP.2020-12-07T15:34:19.828 00232279-7201038 ... 2014A&A...565A.113S\n",
      "ADP.2020-12-07T15:34:19.829 00232655-7204428 ... 2014A&A...565A.113S\n",
      "ADP.2020-12-07T15:34:19.830 00232700-7201243 ... 2014A&A...565A.113S\n",
      "ADP.2020-12-07T15:34:19.831 00232920-7206202 ... 2014A&A...565A.113S\n",
      "ADP.2020-12-07T15:34:19.832 00232927-7204482 ... 2014A&A...565A.113S\n",
      "ADP.2020-12-07T15:34:19.833 00233076-7202566 ... 2014A&A...565A.113S\n",
      "                        ...              ... ...                 ...\n",
      "ADP.2020-12-07T15:35:09.976 07311904-0955502 ...                  --\n",
      "ADP.2020-12-07T15:35:09.977 07311906-0957226 ...                  --\n",
      "ADP.2020-12-07T15:35:09.978 07311920-0956274 ...                  --\n",
      "ADP.2020-12-07T15:35:09.979 07311933-0958052 ...                  --\n",
      "ADP.2020-12-07T15:35:09.980 07311940-0959465 ...                  --\n",
      "ADP.2020-12-07T15:35:09.981 07311960-0956211 ...                  --\n",
      "ADP.2020-12-07T15:35:09.982 07311975-0958304 ...                  --\n",
      "ADP.2020-12-07T15:35:09.983 07311976-0952217 ...                  --\n",
      "ADP.2020-12-07T15:35:09.984 07312023-0953426 ...                  --\n",
      "ADP.2020-12-07T15:35:09.985 07312043-0955191 ...                  --\n",
      "ADP.2020-12-07T15:35:09.986 07312052-0954437 ...                  --\n",
      "Length = 50000 rows\n",
      "Length of giraffe table queried:           ARCFILE                Object      ... REFERENC\n",
      "--------------------------- ---------------- ... --------\n",
      "ADP.2020-12-07T15:34:28.073 00000010-5727519 ...       --\n",
      "ADP.2020-12-07T15:34:28.402 00000010-5727519 ...       --\n",
      "ADP.2020-12-07T15:34:28.451 00000014-6003143 ...       --\n",
      "ADP.2020-12-07T15:34:28.453 00000097-5946444 ...       --\n",
      "ADP.2020-12-07T15:34:28.454 00000064-5739305 ...       --\n",
      "ADP.2020-12-07T15:34:28.455 00000097-5946444 ...       --\n",
      "ADP.2020-12-07T15:34:28.457 00000117-5951314 ...       --\n",
      "ADP.2020-12-07T15:34:28.458 00000064-5739305 ...       --\n",
      "ADP.2020-12-07T15:34:28.459 00000117-5951314 ...       --\n",
      "ADP.2020-12-07T15:34:28.460 00000144-5736274 ...       --\n",
      "                        ...              ... ...      ...\n",
      "ADP.2020-12-07T15:35:09.976 07311904-0955502 ...       --\n",
      "ADP.2020-12-07T15:35:09.977 07311906-0957226 ...       --\n",
      "ADP.2020-12-07T15:35:09.978 07311920-0956274 ...       --\n",
      "ADP.2020-12-07T15:35:09.979 07311933-0958052 ...       --\n",
      "ADP.2020-12-07T15:35:09.980 07311940-0959465 ...       --\n",
      "ADP.2020-12-07T15:35:09.981 07311960-0956211 ...       --\n",
      "ADP.2020-12-07T15:35:09.982 07311975-0958304 ...       --\n",
      "ADP.2020-12-07T15:35:09.983 07311976-0952217 ...       --\n",
      "ADP.2020-12-07T15:35:09.984 07312023-0953426 ...       --\n",
      "ADP.2020-12-07T15:35:09.985 07312043-0955191 ...       --\n",
      "ADP.2020-12-07T15:35:09.986 07312052-0954437 ...       --\n",
      "Length = 36274 rows\n",
      "Length of final list: 11631\n",
      "Data written to /Users/mattocallaghan/Documents/GES/Data\n"
     ]
    }
   ],
   "source": [
    "os.chdir(os.getcwd()+\"/Data\")\n",
    "giraffe_setting='HR10'  #could also be HR21 however any other settings will have to be mapped to in file\n",
    "table_query_names(giraffe_setting)\n",
    "os.chdir(\"../\")"
   ]
  },
  {
   "cell_type": "markdown",
   "metadata": {},
   "source": [
    "# 1.1 Download data using the saved file from Website\n",
    "\n",
    "http://archive.eso.org/cms/eso-data/eso-data-direct-retrieval.html\n",
    "\n",
    "Download will take an input of names"
   ]
  },
  {
   "cell_type": "markdown",
   "metadata": {},
   "source": [
    "# 2.1 Parameter Files\n",
    "\n",
    "They are in an email and will need to be sorted using the name list produced."
   ]
  }
 ],
 "metadata": {
  "interpreter": {
   "hash": "388258d5dbd248a427ffb3173d4e076e3a6ff0d999334480b98d684a9efba49c"
  },
  "kernelspec": {
   "display_name": "Python 3.8.12 64-bit ('astro': conda)",
   "language": "python",
   "name": "python3"
  },
  "language_info": {
   "codemirror_mode": {
    "name": "ipython",
    "version": 3
   },
   "file_extension": ".py",
   "mimetype": "text/x-python",
   "name": "python",
   "nbconvert_exporter": "python",
   "pygments_lexer": "ipython3",
   "version": "3.8.12"
  },
  "orig_nbformat": 4
 },
 "nbformat": 4,
 "nbformat_minor": 2
}
