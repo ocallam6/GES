{
 "cells": [
  {
   "cell_type": "code",
   "execution_count": 1,
   "metadata": {},
   "outputs": [
    {
     "data": {
      "text/plain": [
       "'/Users/mattocallaghan/GES/Analysis'"
      ]
     },
     "execution_count": 1,
     "metadata": {},
     "output_type": "execute_result"
    }
   ],
   "source": [
    "import matplotlib.pyplot as plt\n",
    "import os\n",
    "import numpy as np\n",
    "if(\"Analysis\" in os.getcwd()):\n",
    "    os.chdir(\"../\")\n",
    "\n",
    "from Data_handling.pca_functions import Pca_Fitting\n",
    "from Data_handling.gaia_query import gaia_cone, bailer_jones_cone, concatenate_gaia_bailer\n",
    "from Data_handling.vae import Encoder,Decoder, VAE , loss_function, model_train\n",
    "\n",
    "\n",
    "os.chdir(\"Analysis\")\n",
    "os.getcwd()"
   ]
  },
  {
   "cell_type": "code",
   "execution_count": 2,
   "metadata": {},
   "outputs": [],
   "source": [
    "import torch\n",
    "import torch.nn as nn \n",
    "import torch.nn.functional as F \n",
    "from torch.optim import Adam\n",
    "from torch.utils.data import DataLoader\n",
    "\n",
    "\n",
    "DEVICE = torch.device(\"cuda\" if torch.cuda.is_available() else \"cpu\")"
   ]
  },
  {
   "cell_type": "code",
   "execution_count": 3,
   "metadata": {},
   "outputs": [],
   "source": [
    "batch_size = 50 #617 #factor for 1090\n",
    "lr = 1e-3\n",
    "epochs = 100"
   ]
  },
  {
   "cell_type": "code",
   "execution_count": 4,
   "metadata": {},
   "outputs": [],
   "source": [
    "mean = [0,0]\n",
    "cov = [[1,0],[0,1]]\n",
    "colour_mag = np.random.multivariate_normal(mean, cov,size=10000)"
   ]
  },
  {
   "cell_type": "code",
   "execution_count": 5,
   "metadata": {},
   "outputs": [],
   "source": [
    "vae_spec=DataLoader(torch.tensor(colour_mag).float(),batch_size=batch_size) "
   ]
  },
  {
   "cell_type": "code",
   "execution_count": 14,
   "metadata": {},
   "outputs": [],
   "source": [
    "zdim=10"
   ]
  },
  {
   "cell_type": "code",
   "execution_count": 15,
   "metadata": {},
   "outputs": [],
   "source": [
    "encoder = Encoder(input_dim=colour_mag.shape[1], hidden_dims=[20,20], z_dim=zdim,dropout=0.2)\n",
    "decoder = Decoder(output_dim=colour_mag.shape[1], hidden_dims = [20,20], z_dim=zdim,dropout=0.2)\n",
    "model = VAE(Encoder=encoder, Decoder=decoder).to(DEVICE)\n",
    "optimizer=Adam(model.parameters(),lr=lr)"
   ]
  },
  {
   "cell_type": "code",
   "execution_count": 16,
   "metadata": {},
   "outputs": [
    {
     "name": "stdout",
     "output_type": "stream",
     "text": [
      "Start training VAE...\n",
      "\tEpoch 1 complete! \tAverage Loss:  2.106646136566622\n",
      "Overall Loss:  20961.12905883789\n",
      "\tEpoch 2 complete! \tAverage Loss:  2.047809093992914\n",
      "Overall Loss:  20375.700485229492\n",
      "\tEpoch 3 complete! \tAverage Loss:  2.034484359511179\n",
      "Overall Loss:  20243.11937713623\n",
      "\tEpoch 4 complete! \tAverage Loss:  2.0354829820795874\n",
      "Overall Loss:  20253.055671691895\n",
      "\tEpoch 5 complete! \tAverage Loss:  2.0331843842932926\n",
      "Overall Loss:  20230.18462371826\n",
      "\tEpoch 6 complete! \tAverage Loss:  2.03258599209426\n",
      "Overall Loss:  20224.23062133789\n",
      "\tEpoch 7 complete! \tAverage Loss:  2.032656180990401\n",
      "Overall Loss:  20224.929000854492\n",
      "\tEpoch 8 complete! \tAverage Loss:  2.03318473700902\n",
      "Overall Loss:  20230.188133239746\n",
      "\tEpoch 9 complete! \tAverage Loss:  2.0313060940689778\n",
      "Overall Loss:  20211.495635986328\n",
      "\tEpoch 10 complete! \tAverage Loss:  2.031662296314335\n",
      "Overall Loss:  20215.039848327637\n",
      "\tEpoch 11 complete! \tAverage Loss:  2.0330871398005654\n",
      "Overall Loss:  20229.217041015625\n",
      "\tEpoch 12 complete! \tAverage Loss:  2.030990098349413\n",
      "Overall Loss:  20208.35147857666\n",
      "\tEpoch 13 complete! \tAverage Loss:  2.0293519806981686\n",
      "Overall Loss:  20192.052207946777\n",
      "\tEpoch 14 complete! \tAverage Loss:  2.0277685799910197\n",
      "Overall Loss:  20176.297370910645\n",
      "\tEpoch 15 complete! \tAverage Loss:  2.029629325675006\n",
      "Overall Loss:  20194.81179046631\n",
      "\tEpoch 16 complete! \tAverage Loss:  2.027625437214147\n",
      "Overall Loss:  20174.87310028076\n",
      "\tEpoch 17 complete! \tAverage Loss:  2.006036712799839\n",
      "Overall Loss:  19960.0652923584\n",
      "\tEpoch 18 complete! \tAverage Loss:  1.999099519049103\n",
      "Overall Loss:  19891.040214538574\n",
      "\tEpoch 19 complete! \tAverage Loss:  1.978085393090943\n",
      "Overall Loss:  19681.949661254883\n",
      "\tEpoch 20 complete! \tAverage Loss:  1.9801787685988537\n",
      "Overall Loss:  19702.778747558594\n",
      "\tEpoch 21 complete! \tAverage Loss:  1.9799414553234924\n",
      "Overall Loss:  19700.41748046875\n",
      "\tEpoch 22 complete! \tAverage Loss:  1.9627954047888367\n",
      "Overall Loss:  19529.814277648926\n",
      "\tEpoch 23 complete! \tAverage Loss:  1.9523677737748804\n",
      "Overall Loss:  19426.05934906006\n",
      "\tEpoch 24 complete! \tAverage Loss:  1.9604880090454715\n",
      "Overall Loss:  19506.85569000244\n",
      "\tEpoch 25 complete! \tAverage Loss:  1.9424331527019865\n",
      "Overall Loss:  19327.209869384766\n",
      "\tEpoch 26 complete! \tAverage Loss:  1.9420696484743052\n",
      "Overall Loss:  19323.593002319336\n",
      "\tEpoch 27 complete! \tAverage Loss:  1.9373523823340335\n",
      "Overall Loss:  19276.656204223633\n",
      "\tEpoch 28 complete! \tAverage Loss:  1.934649615263819\n",
      "Overall Loss:  19249.763671875\n",
      "\tEpoch 29 complete! \tAverage Loss:  1.928101631816308\n",
      "Overall Loss:  19184.611236572266\n",
      "\tEpoch 30 complete! \tAverage Loss:  1.931992684369111\n",
      "Overall Loss:  19223.327209472656\n",
      "\tEpoch 31 complete! \tAverage Loss:  1.9115578372514428\n",
      "Overall Loss:  19020.000480651855\n",
      "\tEpoch 32 complete! \tAverage Loss:  1.933189078479556\n",
      "Overall Loss:  19235.231330871582\n",
      "\tEpoch 33 complete! \tAverage Loss:  1.9246871664536058\n",
      "Overall Loss:  19150.63730621338\n",
      "\tEpoch 34 complete! \tAverage Loss:  1.919212296068968\n",
      "Overall Loss:  19096.16234588623\n",
      "\tEpoch 35 complete! \tAverage Loss:  1.91647405039725\n",
      "Overall Loss:  19068.916801452637\n",
      "\tEpoch 36 complete! \tAverage Loss:  1.9171228472072275\n",
      "Overall Loss:  19075.372329711914\n",
      "\tEpoch 37 complete! \tAverage Loss:  1.9002817010160666\n",
      "Overall Loss:  18907.802925109863\n",
      "\tEpoch 38 complete! \tAverage Loss:  1.9153163553362516\n",
      "Overall Loss:  19057.397735595703\n",
      "\tEpoch 39 complete! \tAverage Loss:  1.9222757893471263\n",
      "Overall Loss:  19126.644104003906\n",
      "\tEpoch 40 complete! \tAverage Loss:  1.9221428009493267\n",
      "Overall Loss:  19125.3208694458\n",
      "\tEpoch 41 complete! \tAverage Loss:  1.9181814145802254\n",
      "Overall Loss:  19085.905075073242\n",
      "\tEpoch 42 complete! \tAverage Loss:  1.9158897323225013\n",
      "Overall Loss:  19063.102836608887\n",
      "\tEpoch 43 complete! \tAverage Loss:  1.9074145178099973\n",
      "Overall Loss:  18978.774452209473\n",
      "\tEpoch 44 complete! \tAverage Loss:  1.9226532158779739\n",
      "Overall Loss:  19130.39949798584\n",
      "\tEpoch 45 complete! \tAverage Loss:  1.9093595947572335\n",
      "Overall Loss:  18998.127967834473\n",
      "\tEpoch 46 complete! \tAverage Loss:  1.9087275488771984\n",
      "Overall Loss:  18991.839111328125\n",
      "\tEpoch 47 complete! \tAverage Loss:  1.910952172207473\n",
      "Overall Loss:  19013.974113464355\n",
      "\tEpoch 48 complete! \tAverage Loss:  1.9118380277240696\n",
      "Overall Loss:  19022.788375854492\n",
      "\tEpoch 49 complete! \tAverage Loss:  1.910533192696883\n",
      "Overall Loss:  19009.805267333984\n",
      "\tEpoch 50 complete! \tAverage Loss:  1.9138710781078243\n",
      "Overall Loss:  19043.01722717285\n",
      "\tEpoch 51 complete! \tAverage Loss:  1.9126907471316543\n",
      "Overall Loss:  19031.27293395996\n",
      "\tEpoch 52 complete! \tAverage Loss:  1.901765237166055\n",
      "Overall Loss:  18922.564109802246\n",
      "\tEpoch 53 complete! \tAverage Loss:  1.8978235430693506\n",
      "Overall Loss:  18883.34425354004\n",
      "\tEpoch 54 complete! \tAverage Loss:  1.894005354684801\n",
      "Overall Loss:  18845.35327911377\n",
      "\tEpoch 55 complete! \tAverage Loss:  1.9032406708223737\n",
      "Overall Loss:  18937.244674682617\n",
      "\tEpoch 56 complete! \tAverage Loss:  1.9089730436238812\n",
      "Overall Loss:  18994.281784057617\n",
      "\tEpoch 57 complete! \tAverage Loss:  1.9044672834693488\n",
      "Overall Loss:  18949.44947052002\n",
      "\tEpoch 58 complete! \tAverage Loss:  1.9049927271550624\n",
      "Overall Loss:  18954.67763519287\n",
      "\tEpoch 59 complete! \tAverage Loss:  1.9113474530550703\n",
      "Overall Loss:  19017.90715789795\n",
      "\tEpoch 60 complete! \tAverage Loss:  1.903598398179864\n",
      "Overall Loss:  18940.80406188965\n",
      "\tEpoch 61 complete! \tAverage Loss:  1.9028645255697432\n",
      "Overall Loss:  18933.502029418945\n",
      "\tEpoch 62 complete! \tAverage Loss:  1.9097033752748116\n",
      "Overall Loss:  19001.548583984375\n",
      "\tEpoch 63 complete! \tAverage Loss:  1.8932355545273978\n",
      "Overall Loss:  18837.693767547607\n",
      "\tEpoch 64 complete! \tAverage Loss:  1.9103240974464608\n",
      "Overall Loss:  19007.724769592285\n",
      "\tEpoch 65 complete! \tAverage Loss:  1.8986835537244326\n",
      "Overall Loss:  18891.901359558105\n",
      "\tEpoch 66 complete! \tAverage Loss:  1.898646223365362\n",
      "Overall Loss:  18891.52992248535\n",
      "\tEpoch 67 complete! \tAverage Loss:  1.899544660865362\n",
      "Overall Loss:  18900.46937561035\n",
      "\tEpoch 68 complete! \tAverage Loss:  1.9097994803423857\n",
      "Overall Loss:  19002.50482940674\n",
      "\tEpoch 69 complete! \tAverage Loss:  1.8950386430749941\n",
      "Overall Loss:  18855.63449859619\n",
      "\tEpoch 70 complete! \tAverage Loss:  1.9034843820543146\n",
      "Overall Loss:  18939.66960144043\n",
      "\tEpoch 71 complete! \tAverage Loss:  1.885389267811224\n",
      "Overall Loss:  18759.62321472168\n",
      "\tEpoch 72 complete! \tAverage Loss:  1.8888405727980724\n",
      "Overall Loss:  18793.96369934082\n",
      "\tEpoch 73 complete! \tAverage Loss:  1.8968325874673662\n",
      "Overall Loss:  18873.484245300293\n",
      "\tEpoch 74 complete! \tAverage Loss:  1.9041967765769767\n",
      "Overall Loss:  18946.757926940918\n",
      "\tEpoch 75 complete! \tAverage Loss:  1.908200189791732\n",
      "Overall Loss:  18986.591888427734\n",
      "\tEpoch 76 complete! \tAverage Loss:  1.9091746582337958\n",
      "Overall Loss:  18996.28784942627\n",
      "\tEpoch 77 complete! \tAverage Loss:  1.9065240930911884\n",
      "Overall Loss:  18969.914726257324\n",
      "\tEpoch 78 complete! \tAverage Loss:  1.9044280162408724\n",
      "Overall Loss:  18949.05876159668\n",
      "\tEpoch 79 complete! \tAverage Loss:  1.8948834795927882\n",
      "Overall Loss:  18854.090621948242\n",
      "\tEpoch 80 complete! \tAverage Loss:  1.8989181372867756\n",
      "Overall Loss:  18894.235466003418\n",
      "\tEpoch 81 complete! \tAverage Loss:  1.8992679699461663\n",
      "Overall Loss:  18897.716300964355\n",
      "\tEpoch 82 complete! \tAverage Loss:  1.9006418659459405\n",
      "Overall Loss:  18911.38656616211\n",
      "\tEpoch 83 complete! \tAverage Loss:  1.909946404078498\n",
      "Overall Loss:  19003.966720581055\n",
      "\tEpoch 84 complete! \tAverage Loss:  1.902756079285588\n",
      "Overall Loss:  18932.4229888916\n",
      "\tEpoch 85 complete! \tAverage Loss:  1.9039447734583563\n",
      "Overall Loss:  18944.250495910645\n",
      "\tEpoch 86 complete! \tAverage Loss:  1.9038890972808378\n",
      "Overall Loss:  18943.696517944336\n",
      "\tEpoch 87 complete! \tAverage Loss:  1.8958490925697824\n",
      "Overall Loss:  18863.698471069336\n",
      "\tEpoch 88 complete! \tAverage Loss:  1.903715693028129\n",
      "Overall Loss:  18941.971145629883\n",
      "\tEpoch 89 complete! \tAverage Loss:  1.8941020846726306\n",
      "Overall Loss:  18846.315742492676\n",
      "\tEpoch 90 complete! \tAverage Loss:  1.9041557419359985\n",
      "Overall Loss:  18946.349632263184\n",
      "\tEpoch 91 complete! \tAverage Loss:  1.9051805789506615\n",
      "Overall Loss:  18956.546760559082\n",
      "\tEpoch 92 complete! \tAverage Loss:  1.902012373574415\n",
      "Overall Loss:  18925.02311706543\n",
      "\tEpoch 93 complete! \tAverage Loss:  1.895008935976268\n",
      "Overall Loss:  18855.338912963867\n",
      "\tEpoch 94 complete! \tAverage Loss:  1.8995855406181297\n",
      "Overall Loss:  18900.87612915039\n",
      "\tEpoch 95 complete! \tAverage Loss:  1.8891596172083562\n",
      "Overall Loss:  18797.138191223145\n",
      "\tEpoch 96 complete! \tAverage Loss:  1.8885159278754613\n",
      "Overall Loss:  18790.73348236084\n",
      "\tEpoch 97 complete! \tAverage Loss:  1.9094810738875039\n",
      "Overall Loss:  18999.336685180664\n",
      "\tEpoch 98 complete! \tAverage Loss:  1.8951976810627846\n",
      "Overall Loss:  18857.216926574707\n",
      "\tEpoch 99 complete! \tAverage Loss:  1.892165759676066\n",
      "Overall Loss:  18827.049308776855\n",
      "\tEpoch 100 complete! \tAverage Loss:  1.9086613318668537\n",
      "Overall Loss:  18991.180252075195\n",
      "Finish!!\n"
     ]
    }
   ],
   "source": [
    "print(\"Start training VAE...\")\n",
    "model.train()\n",
    "model_train(vae_spec=vae_spec,model=model,optimizer=optimizer,loss_function=loss_function,epochs=epochs,batch_size=batch_size)"
   ]
  },
  {
   "cell_type": "code",
   "execution_count": 17,
   "metadata": {},
   "outputs": [
    {
     "data": {
      "text/plain": [
       "VAE(\n",
       "  (Encoder): Encoder(\n",
       "    (fc1): Linear(in_features=2, out_features=20, bias=True)\n",
       "    (fc11): Linear(in_features=20, out_features=20, bias=True)\n",
       "    (fc21): Linear(in_features=20, out_features=10, bias=True)\n",
       "    (fc22): Linear(in_features=20, out_features=10, bias=True)\n",
       "    (d): Dropout(p=0.2, inplace=False)\n",
       "    (relu): ReLU()\n",
       "    (softplus): Softplus(beta=1, threshold=20)\n",
       "  )\n",
       "  (Decoder): Decoder(\n",
       "    (fc1): Linear(in_features=10, out_features=20, bias=True)\n",
       "    (fc11): Linear(in_features=20, out_features=20, bias=True)\n",
       "    (fc21): Linear(in_features=20, out_features=2, bias=True)\n",
       "    (d): Dropout(p=0.2, inplace=False)\n",
       "    (softplus): Softplus(beta=1, threshold=20)\n",
       "    (sigmoid): Sigmoid()\n",
       "    (relu): ReLU()\n",
       "  )\n",
       ")"
      ]
     },
     "execution_count": 17,
     "metadata": {},
     "output_type": "execute_result"
    }
   ],
   "source": [
    "model.eval()"
   ]
  },
  {
   "cell_type": "code",
   "execution_count": 18,
   "metadata": {},
   "outputs": [],
   "source": [
    "x_recon=model(torch.tensor(colour_mag).float())[0].detach().numpy()"
   ]
  },
  {
   "cell_type": "code",
   "execution_count": 19,
   "metadata": {},
   "outputs": [],
   "source": [
    "z_mean=model(torch.tensor(colour_mag).float())[1].detach().numpy()\n",
    "z_log_var=model(torch.tensor(colour_mag).float())[2].detach().numpy()\n",
    "\n",
    "z=model(torch.tensor(colour_mag).float())[3].detach().numpy()"
   ]
  },
  {
   "cell_type": "code",
   "execution_count": 20,
   "metadata": {},
   "outputs": [
    {
     "data": {
      "image/png": "[encoded data removed]",
      "text/plain": [
       "<Figure size 432x288 with 1 Axes>"
      ]
     },
     "metadata": {
      "needs_background": "light"
     },
     "output_type": "display_data"
    }
   ],
   "source": [
    "\n",
    "plt.hist((colour_mag),bins=100)\n",
    "plt.hist((x_recon),bins=100,alpha=0.6)\n",
    "plt.show()"
   ]
  },
  {
   "cell_type": "code",
   "execution_count": 21,
   "metadata": {},
   "outputs": [
    {
     "data": {
      "text/plain": [
       "<matplotlib.collections.PathCollection at 0x126ad8ee0>"
      ]
     },
     "execution_count": 21,
     "metadata": {},
     "output_type": "execute_result"
    },
    {
     "data": {
      "image/png": "[encoded data removed]",
      "text/plain": [
       "<Figure size 432x288 with 1 Axes>"
      ]
     },
     "metadata": {
      "needs_background": "light"
     },
     "output_type": "display_data"
    }
   ],
   "source": [
    "plt.scatter(colour_mag.transpose()[0],colour_mag.transpose()[1])\n",
    "plt.scatter(x_recon.transpose()[0],x_recon.transpose()[1])\n"
   ]
  }
 ],
 "metadata": {
  "interpreter": {
   "hash": "388258d5dbd248a427ffb3173d4e076e3a6ff0d999334480b98d684a9efba49c"
  },
  "kernelspec": {
   "display_name": "Python 3.8.12 ('astro')",
   "language": "python",
   "name": "python3"
  },
  "language_info": {
   "codemirror_mode": {
    "name": "ipython",
    "version": 3
   },
   "file_extension": ".py",
   "mimetype": "text/x-python",
   "name": "python",
   "nbconvert_exporter": "python",
   "pygments_lexer": "ipython3",
   "version": "3.8.12"
  },
  "orig_nbformat": 4
 },
 "nbformat": 4,
 "nbformat_minor": 2
}
