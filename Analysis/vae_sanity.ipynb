{
 "cells": [
  {
   "cell_type": "code",
   "execution_count": 203,
   "metadata": {},
   "outputs": [
    {
     "data": {
      "text/plain": [
       "'/Users/mattocallaghan/GES/Analysis'"
      ]
     },
     "execution_count": 203,
     "metadata": {},
     "output_type": "execute_result"
    }
   ],
   "source": [
    "import matplotlib.pyplot as plt\n",
    "import os\n",
    "import numpy as np\n",
    "if(\"Analysis\" in os.getcwd()):\n",
    "    os.chdir(\"../\")\n",
    "\n",
    "from Data_handling.pca_functions import Pca_Fitting\n",
    "from Data_handling.gaia_query import gaia_cone, bailer_jones_cone, concatenate_gaia_bailer\n",
    "from Data_handling.vae import Encoder,Decoder, VAE , loss_function, model_train\n",
    "\n",
    "\n",
    "os.chdir(\"Analysis\")\n",
    "os.getcwd()"
   ]
  },
  {
   "cell_type": "code",
   "execution_count": 204,
   "metadata": {},
   "outputs": [],
   "source": [
    "import torch\n",
    "import torch.nn as nn \n",
    "import torch.nn.functional as F \n",
    "from torch.optim import Adam\n",
    "from torch.utils.data import DataLoader\n",
    "\n",
    "from sklearn.preprocessing import MinMaxScaler\n",
    "\n",
    "DEVICE = torch.device(\"cuda\" if torch.cuda.is_available() else \"cpu\")"
   ]
  },
  {
   "cell_type": "code",
   "execution_count": 205,
   "metadata": {},
   "outputs": [],
   "source": [
    "scaler=MinMaxScaler(feature_range=(-1, 1))"
   ]
  },
  {
   "cell_type": "code",
   "execution_count": 206,
   "metadata": {},
   "outputs": [],
   "source": [
    "batch_size = 100 #617 #factor for 1090\n",
    "lr = 1e-3\n",
    "epochs = 100"
   ]
  },
  {
   "cell_type": "code",
   "execution_count": 207,
   "metadata": {},
   "outputs": [],
   "source": [
    "mean = [0,0]\n",
    "cov = [[1,0],[0,1]]\n",
    "colour_mag = scaler.fit_transform(np.random.multivariate_normal(mean, cov,size=10000))"
   ]
  },
  {
   "cell_type": "code",
   "execution_count": 208,
   "metadata": {},
   "outputs": [],
   "source": [
    "vae_spec=DataLoader(torch.tensor(colour_mag).float(),batch_size=batch_size) "
   ]
  },
  {
   "cell_type": "code",
   "execution_count": 209,
   "metadata": {},
   "outputs": [],
   "source": [
    "zdim=2"
   ]
  },
  {
   "cell_type": "code",
   "execution_count": 210,
   "metadata": {},
   "outputs": [],
   "source": [
    "encoder = Encoder(input_dim=colour_mag.shape[1], hidden_dims=[50,50], z_dim=zdim,dropout=0.2)\n",
    "decoder = Decoder(output_dim=colour_mag.shape[1], hidden_dims = [50,50], z_dim=zdim,dropout=0.2)\n",
    "model = VAE(Encoder=encoder, Decoder=decoder).to(DEVICE)\n",
    "optimizer=Adam(model.parameters(),lr=lr)"
   ]
  },
  {
   "cell_type": "code",
   "execution_count": 211,
   "metadata": {},
   "outputs": [
    {
     "name": "stdout",
     "output_type": "stream",
     "text": [
      "Start training VAE...\n",
      "\tEpoch 1 complete! \tAverage Loss:  0.09535677572693488\n",
      "Overall Loss:  944.0320796966553\n",
      "\tEpoch 2 complete! \tAverage Loss:  0.0769335649952744\n",
      "Overall Loss:  761.6422934532166\n",
      "\tEpoch 3 complete! \tAverage Loss:  0.07422968406869908\n",
      "Overall Loss:  734.8738722801208\n",
      "\tEpoch 4 complete! \tAverage Loss:  0.07377320092133802\n",
      "Overall Loss:  730.3546891212463\n",
      "\tEpoch 5 complete! \tAverage Loss:  0.07345429377122359\n",
      "Overall Loss:  727.1975083351135\n",
      "\tEpoch 6 complete! \tAverage Loss:  0.07293614806550922\n",
      "Overall Loss:  722.0678658485413\n",
      "\tEpoch 7 complete! \tAverage Loss:  0.07266764900901101\n",
      "Overall Loss:  719.409725189209\n",
      "\tEpoch 8 complete! \tAverage Loss:  0.07235422596786961\n",
      "Overall Loss:  716.3068370819092\n",
      "\tEpoch 9 complete! \tAverage Loss:  0.0724152175344602\n",
      "Overall Loss:  716.910653591156\n",
      "\tEpoch 10 complete! \tAverage Loss:  0.0723649053380947\n",
      "Overall Loss:  716.4125628471375\n",
      "\tEpoch 11 complete! \tAverage Loss:  0.0720791503636524\n",
      "Overall Loss:  713.5835886001587\n",
      "\tEpoch 12 complete! \tAverage Loss:  0.07207392080865725\n",
      "Overall Loss:  713.5318160057068\n",
      "\tEpoch 13 complete! \tAverage Loss:  0.07204881364648992\n",
      "Overall Loss:  713.2832551002502\n",
      "\tEpoch 14 complete! \tAverage Loss:  0.07198493788940738\n",
      "Overall Loss:  712.650885105133\n",
      "\tEpoch 15 complete! \tAverage Loss:  0.07198054395540796\n",
      "Overall Loss:  712.6073851585388\n",
      "\tEpoch 16 complete! \tAverage Loss:  0.07196732381377557\n",
      "Overall Loss:  712.4765057563782\n",
      "\tEpoch 17 complete! \tAverage Loss:  0.07194598621792263\n",
      "Overall Loss:  712.2652635574341\n",
      "\tEpoch 18 complete! \tAverage Loss:  0.07193046545741534\n",
      "Overall Loss:  712.1116080284119\n",
      "\tEpoch 19 complete! \tAverage Loss:  0.07197129557831118\n",
      "Overall Loss:  712.5158262252808\n",
      "\tEpoch 20 complete! \tAverage Loss:  0.071958026452498\n",
      "Overall Loss:  712.3844618797302\n",
      "\tEpoch 21 complete! \tAverage Loss:  0.07191305011209816\n",
      "Overall Loss:  711.9391961097717\n",
      "\tEpoch 22 complete! \tAverage Loss:  0.07186156147658222\n",
      "Overall Loss:  711.4294586181641\n",
      "\tEpoch 23 complete! \tAverage Loss:  0.07190050924667205\n",
      "Overall Loss:  711.8150415420532\n",
      "\tEpoch 24 complete! \tAverage Loss:  0.0718784061586014\n",
      "Overall Loss:  711.5962209701538\n",
      "\tEpoch 25 complete! \tAverage Loss:  0.07187609426903002\n",
      "Overall Loss:  711.5733332633972\n",
      "\tEpoch 26 complete! \tAverage Loss:  0.07184703605343597\n",
      "Overall Loss:  711.2856569290161\n",
      "\tEpoch 27 complete! \tAverage Loss:  0.07188900465917106\n",
      "Overall Loss:  711.7011461257935\n",
      "\tEpoch 28 complete! \tAverage Loss:  0.0718373587155583\n",
      "Overall Loss:  711.1898512840271\n",
      "\tEpoch 29 complete! \tAverage Loss:  0.07193049748738607\n",
      "Overall Loss:  712.1119251251221\n",
      "\tEpoch 30 complete! \tAverage Loss:  0.07183822747432825\n",
      "Overall Loss:  711.1984519958496\n",
      "\tEpoch 31 complete! \tAverage Loss:  0.071886171812963\n",
      "Overall Loss:  711.6731009483337\n",
      "\tEpoch 32 complete! \tAverage Loss:  0.07187682050647158\n",
      "Overall Loss:  711.5805230140686\n",
      "\tEpoch 33 complete! \tAverage Loss:  0.07186426832218362\n",
      "Overall Loss:  711.4562563896179\n",
      "\tEpoch 34 complete! \tAverage Loss:  0.07189390408872354\n",
      "Overall Loss:  711.749650478363\n",
      "\tEpoch 35 complete! \tAverage Loss:  0.0718558361072733\n",
      "Overall Loss:  711.3727774620056\n",
      "\tEpoch 36 complete! \tAverage Loss:  0.07186592275446112\n",
      "Overall Loss:  711.472635269165\n",
      "\tEpoch 37 complete! \tAverage Loss:  0.07189999951256645\n",
      "Overall Loss:  711.809995174408\n",
      "\tEpoch 38 complete! \tAverage Loss:  0.0718742288242687\n",
      "Overall Loss:  711.55486536026\n",
      "\tEpoch 39 complete! \tAverage Loss:  0.07189664652853302\n",
      "Overall Loss:  711.7768006324768\n",
      "\tEpoch 40 complete! \tAverage Loss:  0.0718751252781261\n",
      "Overall Loss:  711.5637402534485\n",
      "\tEpoch 41 complete! \tAverage Loss:  0.07185618545069838\n",
      "Overall Loss:  711.3762359619141\n",
      "\tEpoch 42 complete! \tAverage Loss:  0.07189852276233712\n",
      "Overall Loss:  711.7953753471375\n",
      "\tEpoch 43 complete! \tAverage Loss:  0.07185642492891563\n",
      "Overall Loss:  711.3786067962646\n",
      "\tEpoch 44 complete! \tAverage Loss:  0.07188684169692222\n",
      "Overall Loss:  711.67973279953\n",
      "\tEpoch 45 complete! \tAverage Loss:  0.07186816745334201\n",
      "Overall Loss:  711.4948577880859\n",
      "\tEpoch 46 complete! \tAverage Loss:  0.071886148741751\n",
      "Overall Loss:  711.672872543335\n",
      "\tEpoch 47 complete! \tAverage Loss:  0.0718712952161076\n",
      "Overall Loss:  711.5258226394653\n",
      "\tEpoch 48 complete! \tAverage Loss:  0.07186241732703315\n",
      "Overall Loss:  711.4379315376282\n",
      "\tEpoch 49 complete! \tAverage Loss:  0.07192131899824046\n",
      "Overall Loss:  712.0210580825806\n",
      "\tEpoch 50 complete! \tAverage Loss:  0.07185478990728204\n",
      "Overall Loss:  711.3624200820923\n",
      "\tEpoch 51 complete! \tAverage Loss:  0.07186859207923967\n",
      "Overall Loss:  711.4990615844727\n",
      "\tEpoch 52 complete! \tAverage Loss:  0.07188728096509221\n",
      "Overall Loss:  711.6840815544128\n",
      "\tEpoch 53 complete! \tAverage Loss:  0.07185830930266718\n",
      "Overall Loss:  711.397262096405\n",
      "\tEpoch 54 complete! \tAverage Loss:  0.0718358480569088\n",
      "Overall Loss:  711.1748957633972\n",
      "\tEpoch 55 complete! \tAverage Loss:  0.07190074906204685\n",
      "Overall Loss:  711.8174157142639\n",
      "\tEpoch 56 complete! \tAverage Loss:  0.07183071285787256\n",
      "Overall Loss:  711.1240572929382\n",
      "\tEpoch 57 complete! \tAverage Loss:  0.07187995901011457\n",
      "Overall Loss:  711.6115942001343\n",
      "\tEpoch 58 complete! \tAverage Loss:  0.07183310879601372\n",
      "Overall Loss:  711.1477770805359\n",
      "\tEpoch 59 complete! \tAverage Loss:  0.07188221016315499\n",
      "Overall Loss:  711.6338806152344\n",
      "\tEpoch 60 complete! \tAverage Loss:  0.0718718817258122\n",
      "Overall Loss:  711.5316290855408\n",
      "\tEpoch 61 complete! \tAverage Loss:  0.07188285158138083\n",
      "Overall Loss:  711.6402306556702\n",
      "\tEpoch 62 complete! \tAverage Loss:  0.07186414472984545\n",
      "Overall Loss:  711.45503282547\n",
      "\tEpoch 63 complete! \tAverage Loss:  0.07187333497134123\n",
      "Overall Loss:  711.5460162162781\n",
      "\tEpoch 64 complete! \tAverage Loss:  0.07181241719409673\n",
      "Overall Loss:  710.9429302215576\n",
      "\tEpoch 65 complete! \tAverage Loss:  0.07186672904274681\n",
      "Overall Loss:  711.4806175231934\n",
      "\tEpoch 66 complete! \tAverage Loss:  0.07186930454138553\n",
      "Overall Loss:  711.5061149597168\n",
      "\tEpoch 67 complete! \tAverage Loss:  0.07187479293707645\n",
      "Overall Loss:  711.5604500770569\n",
      "\tEpoch 68 complete! \tAverage Loss:  0.07182692306210296\n",
      "Overall Loss:  711.0865383148193\n",
      "\tEpoch 69 complete! \tAverage Loss:  0.07185184705137003\n",
      "Overall Loss:  711.3332858085632\n",
      "\tEpoch 70 complete! \tAverage Loss:  0.07182606167263454\n",
      "Overall Loss:  711.078010559082\n",
      "\tEpoch 71 complete! \tAverage Loss:  0.0718961870790732\n",
      "Overall Loss:  711.7722520828247\n",
      "\tEpoch 72 complete! \tAverage Loss:  0.07184044105838043\n",
      "Overall Loss:  711.2203664779663\n",
      "\tEpoch 73 complete! \tAverage Loss:  0.07183617640023279\n",
      "Overall Loss:  711.1781463623047\n",
      "\tEpoch 74 complete! \tAverage Loss:  0.07186416245470144\n",
      "Overall Loss:  711.4552083015442\n",
      "\tEpoch 75 complete! \tAverage Loss:  0.0718570850834702\n",
      "Overall Loss:  711.385142326355\n",
      "\tEpoch 76 complete! \tAverage Loss:  0.07183399065576418\n",
      "Overall Loss:  711.1565074920654\n",
      "\tEpoch 77 complete! \tAverage Loss:  0.07184870710276595\n",
      "Overall Loss:  711.3022003173828\n",
      "\tEpoch 78 complete! \tAverage Loss:  0.07184761071445966\n",
      "Overall Loss:  711.2913460731506\n",
      "\tEpoch 79 complete! \tAverage Loss:  0.07184346449495566\n",
      "Overall Loss:  711.250298500061\n",
      "\tEpoch 80 complete! \tAverage Loss:  0.07186399214195482\n",
      "Overall Loss:  711.4535222053528\n",
      "\tEpoch 81 complete! \tAverage Loss:  0.07185677908887766\n",
      "Overall Loss:  711.3821129798889\n",
      "\tEpoch 82 complete! \tAverage Loss:  0.07183786006888958\n",
      "Overall Loss:  711.1948146820068\n",
      "\tEpoch 83 complete! \tAverage Loss:  0.07186757930601487\n",
      "Overall Loss:  711.4890351295471\n",
      "\tEpoch 84 complete! \tAverage Loss:  0.07184567663404677\n",
      "Overall Loss:  711.272198677063\n",
      "\tEpoch 85 complete! \tAverage Loss:  0.07183860470550228\n",
      "Overall Loss:  711.2021865844727\n",
      "\tEpoch 86 complete! \tAverage Loss:  0.0718422149889397\n",
      "Overall Loss:  711.2379283905029\n",
      "\tEpoch 87 complete! \tAverage Loss:  0.07181298752023717\n",
      "Overall Loss:  710.9485764503479\n",
      "\tEpoch 88 complete! \tAverage Loss:  0.0718400149875217\n",
      "Overall Loss:  711.2161483764648\n",
      "\tEpoch 89 complete! \tAverage Loss:  0.07187800272546634\n",
      "Overall Loss:  711.5922269821167\n",
      "\tEpoch 90 complete! \tAverage Loss:  0.07182397620846527\n",
      "Overall Loss:  711.0573644638062\n",
      "\tEpoch 91 complete! \tAverage Loss:  0.07181315643618805\n",
      "Overall Loss:  710.9502487182617\n",
      "\tEpoch 92 complete! \tAverage Loss:  0.07185391840308604\n",
      "Overall Loss:  711.3537921905518\n",
      "\tEpoch 93 complete! \tAverage Loss:  0.07181754728760383\n",
      "Overall Loss:  710.9937181472778\n",
      "\tEpoch 94 complete! \tAverage Loss:  0.07181588697915126\n",
      "Overall Loss:  710.9772810935974\n",
      "\tEpoch 95 complete! \tAverage Loss:  0.07179858419630263\n",
      "Overall Loss:  710.805983543396\n",
      "\tEpoch 96 complete! \tAverage Loss:  0.07186718512063074\n",
      "Overall Loss:  711.4851326942444\n",
      "\tEpoch 97 complete! \tAverage Loss:  0.07183825459143128\n",
      "Overall Loss:  711.1987204551697\n",
      "\tEpoch 98 complete! \tAverage Loss:  0.07183336802203245\n",
      "Overall Loss:  711.1503434181213\n",
      "\tEpoch 99 complete! \tAverage Loss:  0.07180556966800883\n",
      "Overall Loss:  710.8751397132874\n",
      "\tEpoch 100 complete! \tAverage Loss:  0.07185260488529398\n",
      "Overall Loss:  711.3407883644104\n",
      "Finish!!\n"
     ]
    }
   ],
   "source": [
    "print(\"Start training VAE...\")\n",
    "model.train()\n",
    "model_train(vae_spec=vae_spec,model=model,optimizer=optimizer,loss_function=loss_function,epochs=epochs,batch_size=batch_size)"
   ]
  },
  {
   "cell_type": "code",
   "execution_count": 212,
   "metadata": {},
   "outputs": [
    {
     "data": {
      "text/plain": [
       "VAE(\n",
       "  (Encoder): Encoder(\n",
       "    (hidden1): Linear(in_features=2, out_features=50, bias=True)\n",
       "    (hidden2): Linear(in_features=50, out_features=50, bias=True)\n",
       "    (nn_mu): Linear(in_features=50, out_features=2, bias=True)\n",
       "    (nn_log_sigma): Linear(in_features=50, out_features=2, bias=True)\n",
       "    (dropout): Dropout(p=0.2, inplace=False)\n",
       "    (relu): ReLU()\n",
       "    (softplus): Softplus(beta=1, threshold=20)\n",
       "  )\n",
       "  (Decoder): Decoder(\n",
       "    (hidden1): Linear(in_features=2, out_features=50, bias=True)\n",
       "    (hidden2): Linear(in_features=50, out_features=50, bias=True)\n",
       "    (nn_out): Linear(in_features=50, out_features=2, bias=True)\n",
       "    (dropout): Dropout(p=0.2, inplace=False)\n",
       "    (relu): ReLU()\n",
       "    (softplus): Softplus(beta=1, threshold=20)\n",
       "  )\n",
       ")"
      ]
     },
     "execution_count": 212,
     "metadata": {},
     "output_type": "execute_result"
    }
   ],
   "source": [
    "model.eval()"
   ]
  },
  {
   "cell_type": "code",
   "execution_count": 213,
   "metadata": {},
   "outputs": [],
   "source": [
    "x_recon=model(torch.tensor(colour_mag).float())[0].detach().numpy()"
   ]
  },
  {
   "cell_type": "code",
   "execution_count": 214,
   "metadata": {},
   "outputs": [],
   "source": [
    "z_mean=model(torch.tensor(colour_mag).float())[1].detach().numpy()\n",
    "z_log_var=model(torch.tensor(colour_mag).float())[2].detach().numpy()\n",
    "\n",
    "z=model(torch.tensor(colour_mag).float())[3].detach().numpy()"
   ]
  },
  {
   "cell_type": "code",
   "execution_count": 215,
   "metadata": {},
   "outputs": [
    {
     "data": {
      "image/png": "[encoded data removed]",
      "text/plain": [
       "<Figure size 432x288 with 1 Axes>"
      ]
     },
     "metadata": {
      "needs_background": "light"
     },
     "output_type": "display_data"
    }
   ],
   "source": [
    "plt.hist(x_recon.transpose()[0])\n",
    "plt.show()"
   ]
  },
  {
   "cell_type": "code",
   "execution_count": 217,
   "metadata": {},
   "outputs": [
    {
     "data": {
      "text/plain": [
       "<matplotlib.collections.PathCollection at 0x120a6d0d0>"
      ]
     },
     "execution_count": 217,
     "metadata": {},
     "output_type": "execute_result"
    },
    {
     "data": {
      "image/png": "[encoded data removed]",
      "text/plain": [
       "<Figure size 432x288 with 1 Axes>"
      ]
     },
     "metadata": {
      "needs_background": "light"
     },
     "output_type": "display_data"
    }
   ],
   "source": [
    "#plt.scatter(colour_mag.transpose()[0],colour_mag.transpose()[1])\n",
    "plt.scatter(x_recon.transpose()[0],x_recon.transpose()[1])\n"
   ]
  }
 ],
 "metadata": {
  "interpreter": {
   "hash": "388258d5dbd248a427ffb3173d4e076e3a6ff0d999334480b98d684a9efba49c"
  },
  "kernelspec": {
   "display_name": "Python 3.8.12 ('astro')",
   "language": "python",
   "name": "python3"
  },
  "language_info": {
   "codemirror_mode": {
    "name": "ipython",
    "version": 3
   },
   "file_extension": ".py",
   "mimetype": "text/x-python",
   "name": "python",
   "nbconvert_exporter": "python",
   "pygments_lexer": "ipython3",
   "version": "3.8.12"
  },
  "orig_nbformat": 4
 },
 "nbformat": 4,
 "nbformat_minor": 2
}
