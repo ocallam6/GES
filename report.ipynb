{
 "cells": [
  {
   "cell_type": "markdown",
   "metadata": {},
   "source": [
    "# Background"
   ]
  },
  {
   "cell_type": "markdown",
   "metadata": {},
   "source": [
    "# Introduction"
   ]
  },
  {
   "cell_type": "markdown",
   "metadata": {},
   "source": [
    "One of the main challenges that faces modern astronomy is the capitalising on the vast amount of data that will be available to astronomers over the coming decades. Future surveys will push the boundaries of the data techniques we have at our disposal due to their sheer volume and complexity. Currently ?? Has ?? And ?? Has ??."
   ]
  },
  {
   "cell_type": "markdown",
   "metadata": {},
   "source": [
    "In recent years a solution to the data issue we are facing has been to look at expanding our data mining and machine learning algorithms for us to better understand astronomical data by building scalable and usable algorithms to assist us in scientific discovery. The human brain by itself is not nearly capable of comprehending large amounts of high dimensional data and machine learning presents a methodology of exploiting the information to the best of our ability."
   ]
  },
  {
   "cell_type": "markdown",
   "metadata": {},
   "source": [
    "Machine learning algorithms hopes to achieve a broad range of goals. It aims to reduce human input and find deeper relations which are not immediately obvious to the astronomer. To be able to predict, classify and organise data based on complex relationships. It does this usually by optimising an objective function which tries to contain as much information about the target goal. "
   ]
  }
 ],
 "metadata": {
  "language_info": {
   "name": "python"
  },
  "orig_nbformat": 4
 },
 "nbformat": 4,
 "nbformat_minor": 2
}
